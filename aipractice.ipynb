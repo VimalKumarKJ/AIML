{
  "nbformat": 4,
  "nbformat_minor": 0,
  "metadata": {
    "colab": {
      "provenance": [],
      "authorship_tag": "ABX9TyN8Q2faW0VsO3IfgA3ksyWV",
      "include_colab_link": true
    },
    "kernelspec": {
      "name": "python3",
      "display_name": "Python 3"
    },
    "language_info": {
      "name": "python"
    }
  },
  "cells": [
    {
      "cell_type": "markdown",
      "metadata": {
        "id": "view-in-github",
        "colab_type": "text"
      },
      "source": [
        "<a href=\"https://colab.research.google.com/github/kickmyd2602/AIML/blob/main/aipractice.ipynb\" target=\"_parent\"><img src=\"https://colab.research.google.com/assets/colab-badge.svg\" alt=\"Open In Colab\"/></a>"
      ]
    },
    {
      "cell_type": "markdown",
      "source": [
        "# A_STAR"
      ],
      "metadata": {
        "id": "oTXLZF5WDEx1"
      }
    },
    {
      "cell_type": "code",
      "execution_count": 12,
      "metadata": {
        "colab": {
          "base_uri": "https://localhost:8080/"
        },
        "id": "h0qbvimHDB3V",
        "outputId": "85e8bb0f-bd57-4308-e1ee-8885961ecc36"
      },
      "outputs": [
        {
          "output_type": "stream",
          "name": "stdout",
          "text": [
            "['A', 'D', 'H', 'I']\n"
          ]
        }
      ],
      "source": [
        "adjacency_list = {\n",
        "    'A' : [('B', 2), ('C', 1), ('D', 3)],\n",
        "    'B' : [('E', 3), ('F', 2)],\n",
        "    'C' : [('F', 4)],\n",
        "    'D' : [('G', 2), ('H', 1)],\n",
        "    'E' : [('F', 1)],\n",
        "    'F' : [('I', 3)],\n",
        "    'G' : [('H', 1), ('I', 2)],\n",
        "    'H' : [('I', 4)]\n",
        "}\n",
        "\n",
        "def get_neighbors(v):\n",
        "  return adjacency_list[v]\n",
        "\n",
        "def H(n):\n",
        "  H = {\n",
        "      'A' : 0,\n",
        "      'B' : 6,\n",
        "      'C' : 5,\n",
        "      'D' : 4,\n",
        "      'E' : 7,\n",
        "      'F' : 8,\n",
        "      'G' : 5,\n",
        "      'H' : 4,\n",
        "      'I' : 0\n",
        "  }\n",
        "  return H[n]\n",
        "\n",
        "def a_star(start_node, end_node):\n",
        "  open_list = []\n",
        "  open_list.append(start_node)\n",
        "  closed_list = []\n",
        "  g = {}\n",
        "  g[start_node] = 0\n",
        "  parent = {}\n",
        "  parent[start_node] = start_node\n",
        "\n",
        "  while len(open_list) > 0:\n",
        "    min = float('inf')\n",
        "    for i in open_list:\n",
        "      if g[i] + H(i) < min:\n",
        "        n = i\n",
        "        min = g[i] + H(i)\n",
        "    if n == end_node:\n",
        "      path = []\n",
        "      while(parent[n] != n):\n",
        "        path.append(n)\n",
        "        n = parent[n]\n",
        "      path.append(start_node)\n",
        "      path.reverse()\n",
        "\n",
        "      return path\n",
        "\n",
        "    for neighbors, cost in get_neighbors(n):\n",
        "      if neighbors not in open_list and neighbors not in closed_list:\n",
        "        open_list.append(neighbors)\n",
        "        parent[neighbors] = n \n",
        "        g[neighbors] = g[n] + cost\n",
        "      else:\n",
        "        if g[neighbors] > g[n] + cost:\n",
        "          g[neighbors] = g[n] + cost\n",
        "          parent[neighbors] = g[n] + cost\n",
        "    open_list.remove(n)\n",
        "    closed_list.append(n)\n",
        "\n",
        "print(a_star('A', 'I'))\n",
        "\n",
        "\n",
        "\n"
      ]
    },
    {
      "cell_type": "markdown",
      "source": [
        "# TIC TAC TOE"
      ],
      "metadata": {
        "id": "u3O-Z54rLb_a"
      }
    },
    {
      "cell_type": "code",
      "source": [
        "import random\n",
        "board = [\" \", \" \", \" \", \" \", \" \", \" \", \" \", \" \", \" \"]\n",
        "\n",
        "def create_board():\n",
        "  print(board[0] + \"|\" + board[1] + \"|\" + board[2])\n",
        "  print(\"-+-+-\")\n",
        "  print(board[3] + \"|\" + board[4] + \"|\" + board[5])\n",
        "  print(\"-+-+-\")\n",
        "  print(board[6] + \"|\" + board[7] + \"|\" + board[8])\n",
        "\n",
        "def check_win(player):\n",
        "  if(board[0] == player and board[1] == player and board[2] == player or  board[0] == player and board[3] == player and board[6] == player or board[3] == player and board[4] == player and board[5] == player or board[6] == player and board[7] == player and board[8] == player or board[1] == player and board[4] == player and board[7] == player or board[2] == player and board[5] == player and board[8] == player):\n",
        "    return True\n",
        "  else:\n",
        "    return False\n",
        "\n",
        "def get_ai_move(player):\n",
        "  for i in range(9):\n",
        "    if board[i] == \" \":\n",
        "      board[i] = player\n",
        "      if check_win(player):\n",
        "        return i\n",
        "      else:\n",
        "        board[i] = \" \"\n",
        "  if player == \"X\":\n",
        "    opponent = \"O\"\n",
        "  else:\n",
        "    opponent = \"X\"\n",
        "  for i in range(9):\n",
        "    if board[i] == \" \":\n",
        "      board[i] = opponent\n",
        "      if check_win(opponent):\n",
        "        board[i] = player\n",
        "        return i\n",
        "      else:\n",
        "        board[i] = \" \"\n",
        "  while True:\n",
        "    move = random.randint(0,8)\n",
        "    if board[move] == \" \":\n",
        "      board[move] = player\n",
        "      return move\n",
        "\n",
        "while True:\n",
        "  create_board()\n",
        "  player_move = int(input(\"Enter your move:[0-8] \"))\n",
        "  while board[player_move] != \" \":\n",
        "    print(\"You cant place here!\")\n",
        "    player_move = int(input(\"Enter your move:[0-8] \"))\n",
        "  board[player_move] = \"X\"\n",
        "  if check_win(\"X\"):\n",
        "    print(\"You won!\")\n",
        "    break\n",
        "  ai_move = get_ai_move(\"O\")\n",
        "  board[ai_move] = \"O\"\n",
        "  if(check_win(\"O\")):\n",
        "    print(\"AI won\")\n",
        "    break\n",
        "  if \" \" not in board:\n",
        "    print(\"Draw!\")\n",
        "    break\n"
      ],
      "metadata": {
        "colab": {
          "base_uri": "https://localhost:8080/"
        },
        "id": "foZZhoQnLeHq",
        "outputId": "acff3b83-05ca-4a53-bf3f-ba3a9e25a80a"
      },
      "execution_count": 16,
      "outputs": [
        {
          "output_type": "stream",
          "name": "stdout",
          "text": [
            " | | \n",
            "-+-+-\n",
            " | | \n",
            "-+-+-\n",
            " | | \n",
            "Enter your move:[0-8] 0\n",
            "X| | \n",
            "-+-+-\n",
            " | |O\n",
            "-+-+-\n",
            " | | \n",
            "Enter your move:[0-8] 6\n",
            "X| | \n",
            "-+-+-\n",
            "O| |O\n",
            "-+-+-\n",
            "X| | \n",
            "Enter your move:[0-8] 1\n",
            "AI won\n"
          ]
        }
      ]
    },
    {
      "cell_type": "markdown",
      "source": [
        "WATER JUG DFS"
      ],
      "metadata": {
        "id": "FT_2tF4NVfY6"
      }
    },
    {
      "cell_type": "code",
      "source": [
        "def dfs(start, target, jug1, jug2):\n",
        "  stack = [(start, set(), [])]\n",
        "\n",
        "  while stack:\n",
        "    (curr_jug1, curr_jug2), visited, steps = stack.pop()\n",
        "\n",
        "    if (curr_jug1, curr_jug2) in visited:\n",
        "      continue\n",
        "    visited.add((curr_jug1, curr_jug2))\n",
        "\n",
        "    if curr_jug1 == target or curr_jug2 == target:\n",
        "      steps.append((curr_jug1, curr_jug2))\n",
        "      return steps\n",
        "    \n",
        "    new_steps = steps + [(curr_jug1, curr_jug2)]\n",
        "    stack.append(((jug1, curr_jug2), visited.copy(), new_steps))\n",
        "    stack.append(((curr_jug1, jug2), visited.copy(), new_steps))\n",
        "    stack.append(((0, curr_jug2), visited.copy(), new_steps))\n",
        "    stack.append(((curr_jug1, 0), visited.copy(), new_steps))\n",
        "    stack.append(((min(curr_jug1 + curr_jug2, jug1), max(0, curr_jug1 + curr_jug2 - jug1)), visited.copy(), new_steps))\n",
        "    stack.append(((max(0, curr_jug1 + curr_jug2 - jug2), min(curr_jug1 + curr_jug2, jug2)), visited.copy(), new_steps))\n",
        "\n",
        "  return None\n",
        "\n",
        "def water_jug(jug1, jug2, target):\n",
        "  start = (0,0)\n",
        "  steps = dfs(start, target, jug1, jug2)\n",
        "  if steps is not None:\n",
        "    print(f\"Target reached: (0, {target})\")\n",
        "    print(\"Steps: \")\n",
        "    for i in steps:\n",
        "      print(i)\n",
        "  else:\n",
        "    print(\"Target cannot be reached\")\n",
        "\n",
        "water_jug(4, 3, 2)"
      ],
      "metadata": {
        "colab": {
          "base_uri": "https://localhost:8080/"
        },
        "id": "hRUMf7LAWHsg",
        "outputId": "f890c121-60a2-4cd2-b2ec-e4f4ea1135e9"
      },
      "execution_count": 19,
      "outputs": [
        {
          "output_type": "stream",
          "name": "stdout",
          "text": [
            "Target reached: (0, 2)\n",
            "Steps: \n",
            "(0, 0)\n",
            "(0, 3)\n",
            "(3, 0)\n",
            "(3, 3)\n",
            "(4, 2)\n"
          ]
        }
      ]
    },
    {
      "cell_type": "markdown",
      "source": [
        "WATER JUG BFS\n"
      ],
      "metadata": {
        "id": "jBqF0aJfaCwy"
      }
    },
    {
      "cell_type": "code",
      "source": [
        "from collections import deque\n",
        "def bfs(start, target, jug1, jug2):\n",
        "  queue = deque([(start, set(), [])])\n",
        "\n",
        "  while queue:\n",
        "    (curr_jug1, curr_jug2), visited, steps = queue.pop_left()\n",
        "\n",
        "    if (curr_jug1, curr_jug2) in visited:\n",
        "      continue\n",
        "    visited.add((curr_jug1, curr_jug2))\n",
        "\n",
        "    if curr_jug1 == target or curr_jug2 == target:\n",
        "      steps.append((curr_jug1, curr_jug2))\n",
        "      return steps\n",
        "    \n",
        "    new_steps = steps + [(curr_jug1, curr_jug2)]\n",
        "    queue.append(((jug1, curr_jug2), visited.copy(), new_steps))\n",
        "    queue.append(((curr_jug1, jug2), visited.copy(), new_steps))\n",
        "    queue.append(((0, curr_jug2), visited.copy(), new_steps))\n",
        "    queue.append(((curr_jug1, 0), visited.copy(), new_steps))\n",
        "    queue.append(((min(curr_jug1 + curr_jug2, jug1), max(0, curr_jug1 + curr_jug2 - jug1)), visited.copy(), new_steps))\n",
        "    queue.append(((max(0, curr_jug1 + curr_jug2 - jug2), min(curr_jug1 + curr_jug2, jug2)), visited.copy(), new_steps))\n",
        "\n",
        "  return None\n",
        "\n",
        "def water_jug(jug1, jug2, target):\n",
        "  start = (0,0)\n",
        "  steps = dfs(start, target, jug1, jug2)\n",
        "  if steps is not None:\n",
        "    print(f\"Target reached: (0, {target})\")\n",
        "    print(\"Steps: \")\n",
        "    for i in steps:\n",
        "      print(i)\n",
        "  else:\n",
        "    print(\"Target cannot be reached\")\n",
        "\n",
        "water_jug(4, 3, 2)"
      ],
      "metadata": {
        "colab": {
          "base_uri": "https://localhost:8080/"
        },
        "id": "rfwKkfd0aFiC",
        "outputId": "c629e9ec-16ff-4097-ba6e-1a2777325ae6"
      },
      "execution_count": 21,
      "outputs": [
        {
          "output_type": "stream",
          "name": "stdout",
          "text": [
            "Target reached: (0, 2)\n",
            "Steps: \n",
            "(0, 0)\n",
            "(0, 3)\n",
            "(3, 0)\n",
            "(3, 3)\n",
            "(4, 2)\n"
          ]
        }
      ]
    },
    {
      "cell_type": "markdown",
      "source": [
        "# MIN MAX "
      ],
      "metadata": {
        "id": "PN8QgXaQbWQ3"
      }
    },
    {
      "cell_type": "code",
      "source": [
        "def min_max(depth, node_index, is_maximizing_player, values):\n",
        "  if depth == 3:\n",
        "    return values[node_index]\n",
        "\n",
        "  if is_maximizing_player:\n",
        "    best_value = float('-inf')\n",
        "    for i in range(2):\n",
        "      value = min_max(depth + 1, node_index * 2 + i, False, values)\n",
        "      best_value = max(best_value, value)\n",
        "    return best_value\n",
        "  else:\n",
        "    best_value = float('inf')\n",
        "    for i in range(2):\n",
        "      value = min_max(depth + 1, node_index * 2 + i, True, values)\n",
        "      best_value = min(best_value, value)\n",
        "    return best_value\n",
        "\n",
        "if __name__ == \"__main__\":\n",
        "  values = [1, 5, 12, 9, 2, 5, 13, 6]\n",
        "  print(\"The optimal value is: \", min_max(0, 0, True, values))\n"
      ],
      "metadata": {
        "colab": {
          "base_uri": "https://localhost:8080/"
        },
        "id": "s5UJSdhWbb4g",
        "outputId": "4bb31d4d-5c69-48a5-e271-95e7b299fad3"
      },
      "execution_count": 26,
      "outputs": [
        {
          "output_type": "stream",
          "name": "stdout",
          "text": [
            "The optimal value is:  5\n"
          ]
        }
      ]
    },
    {
      "cell_type": "markdown",
      "source": [
        "# MIN MAX (ALPHA-BETA PRUNING)"
      ],
      "metadata": {
        "id": "gjch5xaBeRwK"
      }
    },
    {
      "cell_type": "code",
      "source": [
        "def min_max(depth, node_index, alpha, beta, is_maximizing_player, values):\n",
        "  if depth == 3:\n",
        "    return values[node_index]\n",
        "\n",
        "  if is_maximizing_player:\n",
        "    best_value = float('-inf')\n",
        "    for i in range(2):\n",
        "      value = min_max(depth + 1, node_index * 2 + i, alpha, beta, False, values)\n",
        "      best_value = max(best_value, value)\n",
        "      alpha = max(alpha, best_value)\n",
        "      if alpha >= beta:\n",
        "        break\n",
        "    return best_value\n",
        "  else:\n",
        "    best_value = float('inf')\n",
        "    for i in range(2):\n",
        "      value = min_max(depth + 1, node_index * 2 + i, alpha, beta, True, values)\n",
        "      best_value = min(best_value, value)\n",
        "      beta = min(beta, best_value)\n",
        "      if beta >= alpha:\n",
        "        break;\n",
        "    return best_value\n",
        "\n",
        "if __name__ == \"__main__\":\n",
        "  values = [1, 5, 12, 9, 2, 5, 13, 6]\n",
        "  print(\"The optimal value is: \", min_max(0, 0, float('-inf'), float('inf'), True, values))"
      ],
      "metadata": {
        "colab": {
          "base_uri": "https://localhost:8080/"
        },
        "id": "zrFUPv8VeXiy",
        "outputId": "5ff9e974-2384-4b25-9c6f-96df922050b8"
      },
      "execution_count": 28,
      "outputs": [
        {
          "output_type": "stream",
          "name": "stdout",
          "text": [
            "The optimal value is:  5\n"
          ]
        }
      ]
    }
  ]
}